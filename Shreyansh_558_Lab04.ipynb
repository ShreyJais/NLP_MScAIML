{
  "nbformat": 4,
  "nbformat_minor": 0,
  "metadata": {
    "colab": {
      "provenance": [],
      "include_colab_link": true
    },
    "kernelspec": {
      "name": "python3",
      "display_name": "Python 3"
    },
    "language_info": {
      "name": "python"
    }
  },
  "cells": [
    {
      "cell_type": "markdown",
      "metadata": {
        "id": "view-in-github",
        "colab_type": "text"
      },
      "source": [
        "<a href=\"https://colab.research.google.com/github/ShreyJais/NLP_MScAIML/blob/main/Shreyansh_558_Lab04.ipynb\" target=\"_parent\"><img src=\"https://colab.research.google.com/assets/colab-badge.svg\" alt=\"Open In Colab\"/></a>"
      ]
    },
    {
      "cell_type": "markdown",
      "source": [
        "#Write a program to get synonyms from WordNet. (5 words minimum for all the sub questions, for instance: - bear, set, square, lead, criteria)"
      ],
      "metadata": {
        "id": "KBxJ3a7E0g85"
      }
    },
    {
      "cell_type": "code",
      "execution_count": null,
      "metadata": {
        "id": "eYGAFmOByFwU"
      },
      "outputs": [],
      "source": [
        "Text = [\"bear\", \"set\", \"square\", \"lead\", \"criteria\"]"
      ]
    },
    {
      "cell_type": "code",
      "source": [
        "import nltk\n",
        "nltk.download('wordnet')\n",
        "from nltk.corpus import wordnet as wn"
      ],
      "metadata": {
        "colab": {
          "base_uri": "https://localhost:8080/"
        },
        "id": "qYO8tuWv0xFJ",
        "outputId": "f48e20f6-3ede-4eb5-ec55-8598612b5635"
      },
      "execution_count": null,
      "outputs": [
        {
          "output_type": "stream",
          "name": "stderr",
          "text": [
            "[nltk_data] Downloading package wordnet to /root/nltk_data...\n",
            "[nltk_data]   Package wordnet is already up-to-date!\n"
          ]
        }
      ]
    },
    {
      "cell_type": "markdown",
      "source": [
        "#a) Find the 3rd meaning of the word in the list."
      ],
      "metadata": {
        "id": "G8P1v46o4APj"
      }
    },
    {
      "cell_type": "code",
      "source": [
        "for i in Text:\n",
        "  synonyms = wn.synsets(i)\n",
        "  print(\"\")\n",
        "  if(len(synonyms)>2):\n",
        "    print(\"3rd synonym of \\\"\",i,\"\\\":\\t\",synonyms[2])\n",
        "    print(synonyms[2].name(),\":\\t\", synonyms[2].definition())\n",
        "  else:\n",
        "    print(i,\" has less than 3 synonyms\")"
      ],
      "metadata": {
        "colab": {
          "base_uri": "https://localhost:8080/"
        },
        "id": "6dyn2ZM84_8z",
        "outputId": "ea6e6bf0-5029-4656-84c6-a0641dfe19ff"
      },
      "execution_count": null,
      "outputs": [
        {
          "output_type": "stream",
          "name": "stdout",
          "text": [
            "\n",
            "3rd synonym of \" bear \":\t Synset('bear.v.01')\n",
            "bear.v.01 :\t have\n",
            "\n",
            "3rd synonym of \" set \":\t Synset('set.n.03')\n",
            "set.n.03 :\t several exercises intended to be done in series\n",
            "\n",
            "3rd synonym of \" square \":\t Synset('public_square.n.01')\n",
            "public_square.n.01 :\t an open area at the meeting of two or more streets\n",
            "\n",
            "3rd synonym of \" lead \":\t Synset('lead.n.03')\n",
            "lead.n.03 :\t evidence pointing to a possible solution\n",
            "\n",
            "criteria  has less than 3 synonyms\n"
          ]
        }
      ]
    },
    {
      "cell_type": "markdown",
      "source": [
        "# b) Extract the nouns of the word from the synonyms list."
      ],
      "metadata": {
        "id": "vQEgmZzr_0bp"
      }
    },
    {
      "cell_type": "code",
      "source": [
        "nouns=[]\n",
        "for i in Text:\n",
        "  nouns.append(wn.synsets(i, pos=wn.NOUN))\n",
        "nouns"
      ],
      "metadata": {
        "colab": {
          "base_uri": "https://localhost:8080/"
        },
        "id": "ROzYN3C40-VG",
        "outputId": "91a94e25-3b9b-483f-8e4c-2957d8ba3425"
      },
      "execution_count": null,
      "outputs": [
        {
          "output_type": "execute_result",
          "data": {
            "text/plain": [
              "[[Synset('bear.n.01'), Synset('bear.n.02')],\n",
              " [Synset('set.n.01'),\n",
              "  Synset('set.n.02'),\n",
              "  Synset('set.n.03'),\n",
              "  Synset('stage_set.n.01'),\n",
              "  Synset('set.n.05'),\n",
              "  Synset('bent.n.01'),\n",
              "  Synset('set.n.07'),\n",
              "  Synset('set.n.08'),\n",
              "  Synset('hardening.n.02'),\n",
              "  Synset('set.n.10'),\n",
              "  Synset('set.n.11'),\n",
              "  Synset('set.n.12'),\n",
              "  Synset('set.n.13')],\n",
              " [Synset('square.n.01'),\n",
              "  Synset('square.n.02'),\n",
              "  Synset('public_square.n.01'),\n",
              "  Synset('square.n.04'),\n",
              "  Synset('square.n.05'),\n",
              "  Synset('square.n.06'),\n",
              "  Synset('square.n.07'),\n",
              "  Synset('square.n.08')],\n",
              " [Synset('lead.n.01'),\n",
              "  Synset('lead.n.02'),\n",
              "  Synset('lead.n.03'),\n",
              "  Synset('lead.n.04'),\n",
              "  Synset('lead.n.05'),\n",
              "  Synset('lead.n.06'),\n",
              "  Synset('lead.n.07'),\n",
              "  Synset('star.n.04'),\n",
              "  Synset('lead.n.09'),\n",
              "  Synset('tip.n.03'),\n",
              "  Synset('lead.n.11'),\n",
              "  Synset('spark_advance.n.01'),\n",
              "  Synset('leash.n.01'),\n",
              "  Synset('lead.n.14'),\n",
              "  Synset('lead.n.15'),\n",
              "  Synset('jumper_cable.n.01'),\n",
              "  Synset('lead.n.17')],\n",
              " [Synset('standard.n.01'), Synset('criterion.n.02')]]"
            ]
          },
          "metadata": {},
          "execution_count": 31
        }
      ]
    },
    {
      "cell_type": "markdown",
      "source": [
        "# c) Extract the verbs of the word from the synonyms list."
      ],
      "metadata": {
        "id": "j0dkOx2fC8kI"
      }
    },
    {
      "cell_type": "code",
      "source": [
        "verbs=[]\n",
        "for i in Text:\n",
        "  verbs.append(wn.synsets(i, pos=wn.VERB))\n",
        "verbs"
      ],
      "metadata": {
        "id": "Gllq3sb71EnV",
        "colab": {
          "base_uri": "https://localhost:8080/"
        },
        "outputId": "d1c1f0c9-de3c-4793-a785-84bbf27ad476"
      },
      "execution_count": null,
      "outputs": [
        {
          "output_type": "execute_result",
          "data": {
            "text/plain": [
              "[[Synset('bear.v.01'),\n",
              "  Synset('give_birth.v.01'),\n",
              "  Synset('digest.v.03'),\n",
              "  Synset('bear.v.04'),\n",
              "  Synset('bear.v.05'),\n",
              "  Synset('bear.v.06'),\n",
              "  Synset('hold.v.11'),\n",
              "  Synset('yield.v.10'),\n",
              "  Synset('wear.v.02'),\n",
              "  Synset('behave.v.02'),\n",
              "  Synset('bear.v.11'),\n",
              "  Synset('hold.v.14'),\n",
              "  Synset('have_a_bun_in_the_oven.v.01')],\n",
              " [Synset('put.v.01'),\n",
              "  Synset('determine.v.03'),\n",
              "  Synset('specify.v.02'),\n",
              "  Synset('set.v.04'),\n",
              "  Synset('set.v.05'),\n",
              "  Synset('set.v.06'),\n",
              "  Synset('fix.v.12'),\n",
              "  Synset('set.v.08'),\n",
              "  Synset('set.v.09'),\n",
              "  Synset('set.v.10'),\n",
              "  Synset('arrange.v.06'),\n",
              "  Synset('plant.v.01'),\n",
              "  Synset('set.v.13'),\n",
              "  Synset('jell.v.01'),\n",
              "  Synset('typeset.v.01'),\n",
              "  Synset('set.v.16'),\n",
              "  Synset('set.v.17'),\n",
              "  Synset('set.v.18'),\n",
              "  Synset('sic.v.01'),\n",
              "  Synset('place.v.11'),\n",
              "  Synset('rig.v.04'),\n",
              "  Synset('set_up.v.04'),\n",
              "  Synset('adjust.v.01'),\n",
              "  Synset('fructify.v.03'),\n",
              "  Synset('dress.v.16')],\n",
              " [Synset('square.v.01'),\n",
              "  Synset('square.v.02'),\n",
              "  Synset('square.v.03'),\n",
              "  Synset('square.v.04'),\n",
              "  Synset('square.v.05'),\n",
              "  Synset('square.v.06'),\n",
              "  Synset('feather.v.03'),\n",
              "  Synset('feather.v.04')],\n",
              " [Synset('lead.v.01'),\n",
              "  Synset('leave.v.07'),\n",
              "  Synset('lead.v.03'),\n",
              "  Synset('lead.v.04'),\n",
              "  Synset('lead.v.05'),\n",
              "  Synset('run.v.03'),\n",
              "  Synset('head.v.02'),\n",
              "  Synset('lead.v.08'),\n",
              "  Synset('contribute.v.03'),\n",
              "  Synset('conduct.v.02'),\n",
              "  Synset('go.v.25'),\n",
              "  Synset('precede.v.04'),\n",
              "  Synset('run.v.23'),\n",
              "  Synset('moderate.v.01')],\n",
              " []]"
            ]
          },
          "metadata": {},
          "execution_count": 32
        }
      ]
    },
    {
      "cell_type": "markdown",
      "source": [
        "#d) Extract the adjectives of the word from the synonyms list."
      ],
      "metadata": {
        "id": "3C-gVW-QHY3E"
      }
    },
    {
      "cell_type": "code",
      "source": [
        "adjectives=[]\n",
        "for i in Text:\n",
        "  adjectives.append(wn.synsets(i, pos=wn.ADJ))\n",
        "adjectives"
      ],
      "metadata": {
        "colab": {
          "base_uri": "https://localhost:8080/"
        },
        "id": "fuWoma_fDGW3",
        "outputId": "96dabf9a-4def-436e-85ce-5cf1a6574dc3"
      },
      "execution_count": null,
      "outputs": [
        {
          "output_type": "execute_result",
          "data": {
            "text/plain": [
              "[[],\n",
              " [Synset('fit.s.02'),\n",
              "  Synset('fixed.s.02'),\n",
              "  Synset('located.s.01'),\n",
              "  Synset('laid.s.01'),\n",
              "  Synset('set.s.05'),\n",
              "  Synset('determined.s.04'),\n",
              "  Synset('hardened.s.05')],\n",
              " [Synset('square.a.01'),\n",
              "  Synset('straight.a.06'),\n",
              "  Synset('hearty.s.02'),\n",
              "  Synset('square.s.04'),\n",
              "  Synset('square.s.05'),\n",
              "  Synset('square.s.06')],\n",
              " [],\n",
              " []]"
            ]
          },
          "metadata": {},
          "execution_count": 33
        }
      ]
    },
    {
      "cell_type": "markdown",
      "source": [
        "# e) Extract the adverbs of the word from the synonyms list."
      ],
      "metadata": {
        "id": "D-V6YzrrHrx4"
      }
    },
    {
      "cell_type": "code",
      "source": [
        "adverbs=[]\n",
        "for i in Text:\n",
        "  adjectives.append(wn.synsets(i, pos=wn.ADV))\n",
        "adverbs"
      ],
      "metadata": {
        "colab": {
          "base_uri": "https://localhost:8080/"
        },
        "id": "dtnRBcE-HkSs",
        "outputId": "fd546437-4f26-4e7a-e481-9ffefa909d49"
      },
      "execution_count": null,
      "outputs": [
        {
          "output_type": "execute_result",
          "data": {
            "text/plain": [
              "[]"
            ]
          },
          "metadata": {},
          "execution_count": 34
        }
      ]
    },
    {
      "cell_type": "markdown",
      "source": [
        "# f) Extract the definition of the word. (For instance, ‘Bear’ - massive plantigrade carnivorous or omnivorous mammals with long shaggy coats and strong claws)"
      ],
      "metadata": {
        "id": "9TDJUdXKH-ph"
      }
    },
    {
      "cell_type": "code",
      "source": [
        "for i in Text:\n",
        "  synonyms = wn.synsets(i)\n",
        "  print(\"\")\n",
        "  print(synonyms[0].name(),\":\\t\", synonyms[0].definition())"
      ],
      "metadata": {
        "colab": {
          "base_uri": "https://localhost:8080/"
        },
        "id": "Vha7T3FXH2r6",
        "outputId": "2be95ecf-1f3b-4c82-b394-b3d366c29a63"
      },
      "execution_count": null,
      "outputs": [
        {
          "output_type": "stream",
          "name": "stdout",
          "text": [
            "\n",
            "bear.n.01 :\t massive plantigrade carnivorous or omnivorous mammals with long shaggy coats and strong claws\n",
            "\n",
            "set.n.01 :\t a group of things of the same kind that belong together and are so used\n",
            "\n",
            "square.n.01 :\t (geometry) a plane rectangle with four equal sides and four right angles; a four-sided regular polygon\n",
            "\n",
            "lead.n.01 :\t an advantage held by a competitor in a race\n",
            "\n",
            "standard.n.01 :\t a basis for comparison; a reference point against which other things can be evaluated\n"
          ]
        }
      ]
    },
    {
      "cell_type": "markdown",
      "source": [
        "# g) Find the hypernyms of each word."
      ],
      "metadata": {
        "id": "Eo00rrZEJTny"
      }
    },
    {
      "cell_type": "code",
      "source": [
        "for i in Text:\n",
        "  synonyms = wn.synsets(i)[0]\n",
        "  print(\"Hypernyms of \", i,\":\\t\", synonyms.hypernyms())"
      ],
      "metadata": {
        "colab": {
          "base_uri": "https://localhost:8080/"
        },
        "id": "Aw6s4ZR6Irsl",
        "outputId": "27c5902b-5739-43c3-8f4a-e86ae698894a"
      },
      "execution_count": null,
      "outputs": [
        {
          "output_type": "stream",
          "name": "stdout",
          "text": [
            "Hypernyms of  bear :\t [Synset('carnivore.n.01')]\n",
            "Hypernyms of  set :\t [Synset('collection.n.01')]\n",
            "Hypernyms of  square :\t [Synset('rectangle.n.01'), Synset('regular_polygon.n.01')]\n",
            "Hypernyms of  lead :\t [Synset('advantage.n.01')]\n",
            "Hypernyms of  criteria :\t [Synset('system_of_measurement.n.01')]\n"
          ]
        }
      ]
    },
    {
      "cell_type": "markdown",
      "source": [
        "# h) Find the hyponyms of each word."
      ],
      "metadata": {
        "id": "MEPrhnCQNGAg"
      }
    },
    {
      "cell_type": "code",
      "source": [
        "for i in Text:\n",
        "  synonyms = wn.synsets(i)[0]\n",
        "  Hyponyms = {i:synonyms.hyponyms()}\n",
        "  print(\"Hyponyms of \", i,\":\\t\", synonyms.hyponyms())"
      ],
      "metadata": {
        "colab": {
          "base_uri": "https://localhost:8080/"
        },
        "id": "rrEM7uELMhQ5",
        "outputId": "dff2913f-43ff-4aab-f2e2-3bee2b049be5"
      },
      "execution_count": null,
      "outputs": [
        {
          "output_type": "stream",
          "name": "stdout",
          "text": [
            "Hyponyms of  bear :\t [Synset('american_black_bear.n.01'), Synset('asiatic_black_bear.n.01'), Synset('bear_cub.n.01'), Synset('brown_bear.n.01'), Synset('bruin.n.01'), Synset('ice_bear.n.01'), Synset('sloth_bear.n.01')]\n",
            "Hyponyms of  set :\t [Synset('bracket.n.01'), Synset('chess_set.n.01'), Synset('choir.n.02'), Synset('conjugation.n.03'), Synset('core.n.01'), Synset('dentition.n.02'), Synset('field.n.12'), Synset('field.n.13'), Synset('field.n.15'), Synset('intersection.n.04'), Synset('manicure_set.n.01'), Synset('octet.n.03'), Synset('pair.n.01'), Synset('portfolio.n.02'), Synset('quartet.n.03'), Synset('quintet.n.04'), Synset('score.n.04'), Synset('septet.n.03'), Synset('sextet.n.04'), Synset('singleton.n.02'), Synset('suite.n.04'), Synset('synset.n.01'), Synset('threescore.n.01'), Synset('trio.n.04'), Synset('union.n.08')]\n",
            "Hyponyms of  square :\t [Synset('quadrate.n.02')]\n",
            "Hyponyms of  lead :\t []\n",
            "Hyponyms of  criteria :\t [Synset('baseline.n.01'), Synset('benchmark.n.01'), Synset('earned_run_average.n.01'), Synset('gauge.n.02'), Synset('grade_point_average.n.01'), Synset('medium_of_exchange.n.01'), Synset('norm.n.01'), Synset('procrustean_standard.n.01'), Synset('scale.n.01'), Synset('yardstick.n.01')]\n"
          ]
        }
      ]
    },
    {
      "cell_type": "markdown",
      "source": [
        "# i) Find the similarities of any two hyponyms of a word."
      ],
      "metadata": {
        "id": "8OMGyVygRi92"
      }
    },
    {
      "cell_type": "code",
      "source": [
        "Hyponyms['criteria']"
      ],
      "metadata": {
        "colab": {
          "base_uri": "https://localhost:8080/"
        },
        "id": "-RK3I7FkLyEk",
        "outputId": "e4edca04-1b14-4fc7-cc14-4b7c375ce0be"
      },
      "execution_count": null,
      "outputs": [
        {
          "output_type": "execute_result",
          "data": {
            "text/plain": [
              "[Synset('baseline.n.01'),\n",
              " Synset('benchmark.n.01'),\n",
              " Synset('earned_run_average.n.01'),\n",
              " Synset('gauge.n.02'),\n",
              " Synset('grade_point_average.n.01'),\n",
              " Synset('medium_of_exchange.n.01'),\n",
              " Synset('norm.n.01'),\n",
              " Synset('procrustean_standard.n.01'),\n",
              " Synset('scale.n.01'),\n",
              " Synset('yardstick.n.01')]"
            ]
          },
          "metadata": {},
          "execution_count": 38
        }
      ]
    },
    {
      "cell_type": "code",
      "source": [
        "print(\"similarities between two hyponyms of a word 'criteria':\\n\")\n",
        "for i in range(len(Hyponyms['criteria']) - 1):\n",
        "  print( f\"similarite({Hyponyms['criteria'][i].name()}, {Hyponyms['criteria'][i+1].name()}) = \" ,(Hyponyms['criteria'][i]).path_similarity(Hyponyms['criteria'][i+1]) )"
      ],
      "metadata": {
        "colab": {
          "base_uri": "https://localhost:8080/"
        },
        "id": "oqLgs2VoUfNJ",
        "outputId": "7cc5d591-469a-4f1e-8a5e-3854fbb6466e"
      },
      "execution_count": null,
      "outputs": [
        {
          "output_type": "stream",
          "name": "stdout",
          "text": [
            "similarities between two hyponyms of a word 'criteria':\n",
            "\n",
            "similarite(baseline.n.01, benchmark.n.01) =  0.3333333333333333\n",
            "similarite(benchmark.n.01, earned_run_average.n.01) =  0.3333333333333333\n",
            "similarite(earned_run_average.n.01, gauge.n.02) =  0.3333333333333333\n",
            "similarite(gauge.n.02, grade_point_average.n.01) =  0.3333333333333333\n",
            "similarite(grade_point_average.n.01, medium_of_exchange.n.01) =  0.3333333333333333\n",
            "similarite(medium_of_exchange.n.01, norm.n.01) =  0.3333333333333333\n",
            "similarite(norm.n.01, procrustean_standard.n.01) =  0.3333333333333333\n",
            "similarite(procrustean_standard.n.01, scale.n.01) =  0.3333333333333333\n",
            "similarite(scale.n.01, yardstick.n.01) =  0.3333333333333333\n"
          ]
        }
      ]
    },
    {
      "cell_type": "markdown",
      "source": [
        "path_similarity method :\n",
        "1. first finds the shortest path in the hypernym hierarchy between the two synsets. The hypernym hierarchy is a tree-like structure where more general terms (hypernyms) are at the top and more specific terms (hyponyms) are at the bottom.\n",
        "\n",
        "2. The length of this path is then used to calculate the similarity score. The score is 1 divided by the length of the path.\n",
        "\n",
        "If the two synsets are the same, the path length is 1, so the similarity score is 1.\n",
        "\n",
        "If the two synsets are not connected by a path, the similarity score is 0."
      ],
      "metadata": {
        "id": "iuCnQYsTP8-j"
      }
    },
    {
      "cell_type": "code",
      "source": [],
      "metadata": {
        "id": "yEI4Ij_uL-cU"
      },
      "execution_count": null,
      "outputs": []
    }
  ]
}